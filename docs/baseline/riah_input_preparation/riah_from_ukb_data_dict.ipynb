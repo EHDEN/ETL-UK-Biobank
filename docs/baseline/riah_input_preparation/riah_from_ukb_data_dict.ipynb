{
 "cells": [
  {
   "cell_type": "code",
   "execution_count": 106,
   "metadata": {},
   "outputs": [],
   "source": [
    "import json, csv, copy, re\n",
    "from collections import defaultdict"
   ]
  },
  {
   "cell_type": "code",
   "execution_count": 107,
   "metadata": {},
   "outputs": [],
   "source": [
    "with open('template_riah_save.json') as f_in:\n",
    "    riah = json.load(f_in)"
   ]
  },
  {
   "cell_type": "code",
   "execution_count": 108,
   "metadata": {},
   "outputs": [
    {
     "data": {
      "text/plain": [
       "dict_keys(['@type', 'sourceDb', 'cdmDb', 'tableToTableMaps', 'tableMapToFieldToFieldMaps'])"
      ]
     },
     "execution_count": 108,
     "metadata": {},
     "output_type": "execute_result"
    }
   ],
   "source": [
    "riah.keys()"
   ]
  },
  {
   "cell_type": "code",
   "execution_count": 109,
   "metadata": {},
   "outputs": [],
   "source": [
    "del riah['tableToTableMaps']"
   ]
  },
  {
   "cell_type": "code",
   "execution_count": 110,
   "metadata": {},
   "outputs": [],
   "source": [
    "del riah['tableMapToFieldToFieldMaps']"
   ]
  },
  {
   "cell_type": "code",
   "execution_count": 111,
   "metadata": {},
   "outputs": [],
   "source": [
    "del riah['cdmDb']"
   ]
  },
  {
   "cell_type": "code",
   "execution_count": 112,
   "metadata": {},
   "outputs": [
    {
     "data": {
      "text/plain": [
       "dict_keys(['@id', '@type', 'db', 'name', 'description', 'rowCount', 'rowsCheckedCount', 'comment', 'fields', 'isStem'])"
      ]
     },
     "execution_count": 112,
     "metadata": {},
     "output_type": "execute_result"
    }
   ],
   "source": [
    "riah['sourceDb']['tables']['@items'][0].keys()"
   ]
  },
  {
   "cell_type": "code",
   "execution_count": 113,
   "metadata": {},
   "outputs": [],
   "source": [
    "table = {  \n",
    "          \"@id\":101,\n",
    "          \"@type\":\"org.ohdsi.rabbitInAHat.dataModel.Table\",\n",
    "          \"db\":None,\n",
    "          \"name\": \"baseline\",\n",
    "          \"rowCount\": 99999,\n",
    "          \"comment\":\"\",\n",
    "          \"isStem\":False,\n",
    "          \"fields\":{            \n",
    "              \"@type\":\"java.util.ArrayList\",\n",
    "              \"@items\":[]\n",
    "          }\n",
    "}"
   ]
  },
  {
   "cell_type": "code",
   "execution_count": 114,
   "metadata": {},
   "outputs": [
    {
     "data": {
      "text/plain": [
       "dict_keys(['@id', '@type', 'table', 'name', 'comment', 'valueCounts', 'isNullable', 'type', 'description', 'maxLength', 'isStem', 'conceptIdHints', 'fractionEmpty', 'uniqueCount', 'fractionUnique'])"
      ]
     },
     "execution_count": 114,
     "metadata": {},
     "output_type": "execute_result"
    }
   ],
   "source": [
    "riah['sourceDb']['tables']['@items'][0]['fields']['@items'][0].keys()"
   ]
  },
  {
   "cell_type": "code",
   "execution_count": 115,
   "metadata": {},
   "outputs": [],
   "source": [
    "field = {\n",
    "                \"@type\":\"org.ohdsi.rabbitInAHat.dataModel.Field\",\n",
    "                \"table\":{\"@ref\":None},\n",
    "                \"name\": None,\n",
    "                \"comment\":\"\",\n",
    "                \"valueCounts\":[],\n",
    "                \"isNullable\":True,\n",
    "                \"type\":None,\n",
    "                \"description\":\"\",\n",
    "                \"fractionEmpty\":None,\n",
    "                \"uniqueCount\":None,\n",
    "                \"fractionUnique\":None,\n",
    "                \"isStem\":False,\n",
    "                \"conceptIdHints\":[]\n",
    "}"
   ]
  },
  {
   "cell_type": "code",
   "execution_count": 116,
   "metadata": {},
   "outputs": [],
   "source": [
    "table_list = {}\n",
    "i = 100\n",
    "with open('prio_vars.csv') as f_in:\n",
    "    rows = csv.DictReader(f_in)\n",
    "    for row in rows:\n",
    "        table_name = row['category_name']\n",
    "        t = table_list.get(table_name)\n",
    "\n",
    "        # By category_name\n",
    "        if t == None:\n",
    "            i += 1\n",
    "            t = copy.deepcopy(table)\n",
    "            t['name'] = table_name\n",
    "            t['@id'] = i\n",
    "            t['db'] = None\n",
    "            t['comment'] = \"\"\n",
    "            table_list[table_name] = t\n",
    "        \n",
    "        f = copy.deepcopy(field)\n",
    "        field_notes, n_rep = re.subn(r'\\s?</?\\w+>\\s?', ' ', row['notes'])\n",
    "#         field_description = field_notes or row['field_name']\n",
    "        f['table']['@ref'] = t['@id']\n",
    "        f['name'] = f\"{row['field_id']}-{int(row['n_visits'])-1}.{int(row['n_indices'])-1}\"  # The maximum array index\n",
    "        f['description'] = f\"{field_notes[:400]}\"  # otherwise text too big for description field\n",
    "        f['type'] = row['type_name'] + ' ' + row['unit_name']\n",
    "        f['uniqueCount'] = int(row['n_values']) if row['n_values'] else None\n",
    "        f['comment'] = \"\"\n",
    "        f['item_count'] = int(row['item_count']) if row['item_count'] else None\n",
    "        \n",
    "        # todo: add possible values (and value counts) for categoricals\n",
    "        # todo: add full category path, to see what belongs to what (e.g. Summary Administration - Hospital inpatient - Health-related outcomes)\n",
    "        # todo: in table description, add which field ids it concerns (implement with another loop through created tables)\n",
    "        \n",
    "        t['fields']['@items'].append(f)"
   ]
  },
  {
   "cell_type": "code",
   "execution_count": 117,
   "metadata": {},
   "outputs": [],
   "source": [
    "riah['sourceDb']['tables']['@items'] = list(table_list.values())"
   ]
  },
  {
   "cell_type": "code",
   "execution_count": 118,
   "metadata": {},
   "outputs": [],
   "source": [
    "with open('riah_baseline.json', 'w') as f_out:\n",
    "    json.dump(riah, f_out)"
   ]
  },
  {
   "cell_type": "code",
   "execution_count": null,
   "metadata": {},
   "outputs": [],
   "source": []
  }
 ],
 "metadata": {
  "kernelspec": {
   "display_name": "Python 3",
   "language": "python",
   "name": "python3"
  },
  "language_info": {
   "codemirror_mode": {
    "name": "ipython",
    "version": 3
   },
   "file_extension": ".py",
   "mimetype": "text/x-python",
   "name": "python",
   "nbconvert_exporter": "python",
   "pygments_lexer": "ipython3",
   "version": "3.7.6"
  }
 },
 "nbformat": 4,
 "nbformat_minor": 4
}
