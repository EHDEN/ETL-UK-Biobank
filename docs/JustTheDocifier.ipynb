{
 "cells": [
  {
   "cell_type": "code",
   "execution_count": 1,
   "metadata": {},
   "outputs": [],
   "source": [
    "from pathlib import Path"
   ]
  },
  {
   "cell_type": "code",
   "execution_count": 8,
   "metadata": {
    "pycharm": {
     "name": "#%%\n"
    }
   },
   "outputs": [],
   "source": [
    "# TODO. + add nested structure (e.g. all baseline transformation under one subsection)\n",
    "FILE_ORDER = [\"baseline_to_care_site.md\", \"covid_to_care_site.md\",\n",
    "              \"baseline_to_person.md\",\n",
    "              \"gp_registrations_to_observation_period.md\",\n",
    "              \"death_to_death.md\",\n",
    "              \"baseline_to_visit_occurrence.md\", \"covid_to_visit_occurrence.md\",\n",
    "              \"hesin_to_visit_occurrence.md\", \"gp_clinical_prescriptions_to_visit_occurrence.md\",\n",
    "              \"hesin_to_visit_detail.md\",\n",
    "              \"death_to_condition_occurrence.md\", \"hesin_diag_to_condition_occurrence.md\",\n",
    "              \"cancer_register_to_condition_occurrence.md\",\n",
    "              \"gp_prescriptions_to_drug_exposure.md\",\n",
    "              \"hesin_oper_to_procedure_occurrence.md\",\n",
    "              \"covid_to_observation.md\",\n",
    "              \"baseline_to_stem_table.md\", \"gp_clinical_to_stem_table.md\",\n",
    "              \"stem_to_observation.md\",\n",
    "              \"stem_to_condition_occurrence.md\",\n",
    "              \"stem_to_drug_exposure.md\",\n",
    "              \"stem_to_procedure_occurrence.md\",\n",
    "              \"stem_to_device_exposure.md\",\n",
    "              \"stem_to_measurement.md\",\n",
    "              \"stem_to_specimen.md\",\n",
    "              \"source_appendix.md\", \"baseline_source_appendix.md\",\n",
    "              \"cdm_source.md\"]"
   ]
  },
  {
   "cell_type": "code",
   "execution_count": 9,
   "metadata": {},
   "outputs": [],
   "source": [
    "DOCS_PATH = Path('./')"
   ]
  },
  {
   "cell_type": "code",
   "execution_count": 10,
   "metadata": {},
   "outputs": [
    {
     "name": "stdout",
     "output_type": "stream",
     "text": [
      "baseline_to_care_site.md already JustTheDocified, skipping\n",
      "covid_to_care_site.md already JustTheDocified, skipping\n",
      "baseline_to_person.md already JustTheDocified, skipping\n",
      "gp_registrations_to_observation_period.md already JustTheDocified, skipping\n",
      "death_to_death.md already JustTheDocified, skipping\n",
      "baseline_to_visit_occurrence.md already JustTheDocified, skipping\n",
      "covid_to_visit_occurrence.md already JustTheDocified, skipping\n",
      "hesin_to_visit_occurrence.md already JustTheDocified, skipping\n",
      "gp_clinical_prescriptions_to_visit_occurrence.md already JustTheDocified, skipping\n",
      "hesin_to_visit_detail.md already JustTheDocified, skipping\n",
      "death_to_condition_occurrence.md already JustTheDocified, skipping\n",
      "hesin_diag_to_condition_occurrence.md already JustTheDocified, skipping\n",
      "cancer_register_to_condition_occurrence.md already JustTheDocified, skipping\n",
      "gp_prescriptions_to_drug_exposure.md already JustTheDocified, skipping\n",
      "hesin_oper_to_procedure_occurrence.md already JustTheDocified, skipping\n",
      "covid_to_observation.md already JustTheDocified, skipping\n",
      "baseline_to_stem_table.md already JustTheDocified, skipping\n",
      "gp_clinical_to_stem_table.md already JustTheDocified, skipping\n",
      "stem_to_condition_occurrence.md already JustTheDocified, skipping\n",
      "stem_to_drug_exposure.md already JustTheDocified, skipping\n",
      "stem_to_procedure_occurrence.md already JustTheDocified, skipping\n",
      "stem_to_device_exposure.md already JustTheDocified, skipping\n",
      "stem_to_measurement.md already JustTheDocified, skipping\n",
      "stem_to_specimen.md already JustTheDocified, skipping\n",
      "source_appendix.md already JustTheDocified, skipping\n",
      "baseline_source_appendix.md already JustTheDocified, skipping\n",
      "cdm_source.md already JustTheDocified, skipping\n"
     ]
    }
   ],
   "source": [
    "for i, file_name in enumerate(FILE_ORDER):\n",
    "    cdm_table = file_name[:-3].replace('_', ' ')\n",
    "    title = cdm_table.title()\n",
    "    \n",
    "    nav_order = i + 1\n",
    "    \n",
    "    yaml_front_matter = f'---\\nlayout: default\\ntitle: {title}\\nnav_order: {nav_order}\\n---\\n\\n'\n",
    "    \n",
    "    with (DOCS_PATH / file_name).open() as f_in:\n",
    "        doc_content = f_in.read()\n",
    "        if 'layout: default' in doc_content:\n",
    "            print(f'{file_name} already JustTheDocified, skipping')\n",
    "\n",
    "    with (DOCS_PATH / file_name).open('w') as f_out:\n",
    "        f_out.write(yaml_front_matter)\n",
    "        f_out.write(doc_content)"
   ]
  },
  {
   "cell_type": "code",
   "execution_count": null,
   "metadata": {},
   "outputs": [],
   "source": []
  }
 ],
 "metadata": {
  "kernelspec": {
   "display_name": "Python 3",
   "language": "python",
   "name": "python3"
  },
  "language_info": {
   "codemirror_mode": {
    "name": "ipython",
    "version": 3
   },
   "file_extension": ".py",
   "mimetype": "text/x-python",
   "name": "python",
   "nbconvert_exporter": "python",
   "pygments_lexer": "ipython3",
   "version": "3.6.8"
  }
 },
 "nbformat": 4,
 "nbformat_minor": 1
}