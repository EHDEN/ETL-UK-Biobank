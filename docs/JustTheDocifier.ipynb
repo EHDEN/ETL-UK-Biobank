{
 "cells": [
  {
   "cell_type": "code",
   "execution_count": 15,
   "metadata": {},
   "outputs": [],
   "source": [
    "from pathlib import Path"
   ]
  },
  {
   "cell_type": "code",
   "execution_count": 13,
   "metadata": {},
   "outputs": [],
   "source": [
    "FILE_ORDER = [\n",
    "     # TODO. + add nested structure (e.g. all baseline transformation under one subsection)\n",
    "]"
   ]
  },
  {
   "cell_type": "code",
   "execution_count": 16,
   "metadata": {},
   "outputs": [],
   "source": [
    "DOCS_PATH = Path('./')"
   ]
  },
  {
   "cell_type": "code",
   "execution_count": 21,
   "metadata": {},
   "outputs": [],
   "source": [
    "for i, file_name in enumerate(FILE_ORDER):\n",
    "    cdm_table = file_name[:-3].replace('_', ' ')\n",
    "    title = cdm_table.title()\n",
    "    \n",
    "    nav_order = i + 1\n",
    "    \n",
    "    yaml_front_matter = f'---\\nlayout: default\\ntitle: {title}\\nnav_order: {nav_order}\\n---\\n\\n'\n",
    "    \n",
    "    with (DOCS_PATH / file_name).open() as f_in:\n",
    "        doc_content = f_in.read()\n",
    "        if 'layout: default' in doc_content:\n",
    "            print(f'{file_name} already JustTheDocified, skipping')\n",
    "\n",
    "    with (DOCS_PATH / file_name).open('w') as f_out:\n",
    "        f_out.write(yaml_front_matter)\n",
    "        f_out.write(doc_content)"
   ]
  },
  {
   "cell_type": "code",
   "execution_count": null,
   "metadata": {},
   "outputs": [],
   "source": []
  }
 ],
 "metadata": {
  "kernelspec": {
   "display_name": "Python 3",
   "language": "python",
   "name": "python3"
  },
  "language_info": {
   "codemirror_mode": {
    "name": "ipython",
    "version": 3
   },
   "file_extension": ".py",
   "mimetype": "text/x-python",
   "name": "python",
   "nbconvert_exporter": "python",
   "pygments_lexer": "ipython3",
   "version": "3.6.8"
  }
 },
 "nbformat": 4,
 "nbformat_minor": 1
}