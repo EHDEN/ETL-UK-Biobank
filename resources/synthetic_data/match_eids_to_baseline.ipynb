{
 "cells": [
  {
   "cell_type": "markdown",
   "metadata": {
    "collapsed": true,
    "pycharm": {
     "name": "#%% md\n"
    }
   },
   "source": [
    "script to replace the eids in the synthetic data files if the person ids in the file don't match the baseline ids"
   ]
  },
  {
   "cell_type": "code",
   "execution_count": 14,
   "metadata": {
    "pycharm": {
     "name": "#%%\n"
    }
   },
   "outputs": [],
   "source": [
    "import pandas as pd"
   ]
  },
  {
   "cell_type": "code",
   "execution_count": 25,
   "metadata": {
    "pycharm": {
     "name": "#%%\n"
    }
   },
   "outputs": [],
   "source": [
    "baseline = pd.read_csv('baseline.csv')\n",
    "csv_to_change = 'gp_prescriptions.csv'\n",
    "df_to_match = pd.read_csv(csv_to_change, dtype={'dmd_code' : 'str'})"
   ]
  },
  {
   "cell_type": "code",
   "execution_count": 34,
   "metadata": {
    "pycharm": {
     "name": "#%%\n"
    }
   },
   "outputs": [
    {
     "data": {
      "text/plain": [
       "230"
      ]
     },
     "execution_count": 34,
     "metadata": {},
     "output_type": "execute_result"
    }
   ],
   "source": [
    "base_ids = baseline['eid'].unique()\n",
    "ids_len = len(base_ids)\n",
    "ids_len"
   ]
  },
  {
   "cell_type": "code",
   "execution_count": 27,
   "metadata": {
    "pycharm": {
     "name": "#%%\n"
    }
   },
   "outputs": [
    {
     "data": {
      "text/plain": [
       "100"
      ]
     },
     "execution_count": 27,
     "metadata": {},
     "output_type": "execute_result"
    }
   ],
   "source": [
    "df_ids = df_to_match['eid'].unique()\n",
    "len(df_ids)"
   ]
  },
  {
   "cell_type": "code",
   "execution_count": 28,
   "metadata": {
    "pycharm": {
     "name": "#%%\n"
    }
   },
   "outputs": [],
   "source": [
    "df_ids = df_ids[:ids_len]"
   ]
  },
  {
   "cell_type": "code",
   "execution_count": 29,
   "metadata": {
    "pycharm": {
     "name": "#%%\n"
    }
   },
   "outputs": [
    {
     "data": {
      "text/html": [
       "<div>\n",
       "<style scoped>\n",
       "    .dataframe tbody tr th:only-of-type {\n",
       "        vertical-align: middle;\n",
       "    }\n",
       "\n",
       "    .dataframe tbody tr th {\n",
       "        vertical-align: top;\n",
       "    }\n",
       "\n",
       "    .dataframe thead th {\n",
       "        text-align: right;\n",
       "    }\n",
       "</style>\n",
       "<table border=\"1\" class=\"dataframe\">\n",
       "  <thead>\n",
       "    <tr style=\"text-align: right;\">\n",
       "      <th></th>\n",
       "      <th>eid</th>\n",
       "      <th>data_provider</th>\n",
       "      <th>issue_date</th>\n",
       "      <th>read_2</th>\n",
       "      <th>bnf_code</th>\n",
       "      <th>dmd_code</th>\n",
       "      <th>drug_name</th>\n",
       "      <th>quantity</th>\n",
       "    </tr>\n",
       "  </thead>\n",
       "  <tbody>\n",
       "    <tr>\n",
       "      <th>0</th>\n",
       "      <td>9787890</td>\n",
       "      <td>3</td>\n",
       "      <td>23/07/2012</td>\n",
       "      <td>NaN</td>\n",
       "      <td>NaN</td>\n",
       "      <td>321745007</td>\n",
       "      <td>PRIMOLUT N TABLETS 5MG</td>\n",
       "      <td>56 tablet(s)</td>\n",
       "    </tr>\n",
       "    <tr>\n",
       "      <th>1</th>\n",
       "      <td>4356390</td>\n",
       "      <td>3</td>\n",
       "      <td>24/05/2016</td>\n",
       "      <td>NaN</td>\n",
       "      <td>02.12.04.00.00</td>\n",
       "      <td>NaN</td>\n",
       "      <td>CITALOPRAM tabs 20mg</td>\n",
       "      <td>30 tablets</td>\n",
       "    </tr>\n",
       "    <tr>\n",
       "      <th>2</th>\n",
       "      <td>8018365</td>\n",
       "      <td>3</td>\n",
       "      <td>04/09/2013</td>\n",
       "      <td>NaN</td>\n",
       "      <td>06.02.01.00.00</td>\n",
       "      <td>NaN</td>\n",
       "      <td>Citalopram 20mg tablets</td>\n",
       "      <td>80 grams</td>\n",
       "    </tr>\n",
       "    <tr>\n",
       "      <th>3</th>\n",
       "      <td>5216158</td>\n",
       "      <td>4</td>\n",
       "      <td>15/05/2015</td>\n",
       "      <td>NaN</td>\n",
       "      <td>04.03.04.00.00</td>\n",
       "      <td>NaN</td>\n",
       "      <td>Bendroflumethiazide 2.5mg tablets</td>\n",
       "      <td>56.000</td>\n",
       "    </tr>\n",
       "    <tr>\n",
       "      <th>4</th>\n",
       "      <td>5384852</td>\n",
       "      <td>1</td>\n",
       "      <td>17/09/2007</td>\n",
       "      <td>ff2c.00</td>\n",
       "      <td>NaN</td>\n",
       "      <td>NaN</td>\n",
       "      <td>Aspirin 75mg tablets</td>\n",
       "      <td>100</td>\n",
       "    </tr>\n",
       "  </tbody>\n",
       "</table>\n",
       "</div>"
      ],
      "text/plain": [
       "       eid  data_provider  issue_date   read_2        bnf_code   dmd_code  \\\n",
       "0  9787890              3  23/07/2012      NaN             NaN  321745007   \n",
       "1  4356390              3  24/05/2016      NaN  02.12.04.00.00        NaN   \n",
       "2  8018365              3  04/09/2013      NaN  06.02.01.00.00        NaN   \n",
       "3  5216158              4  15/05/2015      NaN  04.03.04.00.00        NaN   \n",
       "4  5384852              1  17/09/2007  ff2c.00             NaN        NaN   \n",
       "\n",
       "                           drug_name      quantity  \n",
       "0             PRIMOLUT N TABLETS 5MG  56 tablet(s)  \n",
       "1               CITALOPRAM tabs 20mg    30 tablets  \n",
       "2            Citalopram 20mg tablets      80 grams  \n",
       "3  Bendroflumethiazide 2.5mg tablets        56.000  \n",
       "4               Aspirin 75mg tablets           100  "
      ]
     },
     "execution_count": 29,
     "metadata": {},
     "output_type": "execute_result"
    }
   ],
   "source": [
    "df = df_to_match[df_to_match['eid'].isin(df_ids)]\n",
    "df.head()"
   ]
  },
  {
   "cell_type": "code",
   "execution_count": 32,
   "metadata": {
    "pycharm": {
     "name": "#%%\n"
    }
   },
   "outputs": [
    {
     "data": {
      "text/plain": [
       "676"
      ]
     },
     "execution_count": 32,
     "metadata": {},
     "output_type": "execute_result"
    }
   ],
   "source": [
    "map_ids = dict(zip(df_ids, base_ids))\n",
    "df_new = df.replace(map_ids)\n",
    "len(df_new.index)"
   ]
  },
  {
   "cell_type": "code",
   "execution_count": 21,
   "metadata": {
    "pycharm": {
     "name": "#%%\n"
    }
   },
   "outputs": [],
   "source": [
    "df_new.to_csv(csv_to_change, index=False)\n"
   ]
  },
  {
   "cell_type": "code",
   "execution_count": null,
   "metadata": {},
   "outputs": [],
   "source": []
  }
 ],
 "metadata": {
  "kernelspec": {
   "display_name": "Python 3",
   "language": "python",
   "name": "python3"
  },
  "language_info": {
   "codemirror_mode": {
    "name": "ipython",
    "version": 3
   },
   "file_extension": ".py",
   "mimetype": "text/x-python",
   "name": "python",
   "nbconvert_exporter": "python",
   "pygments_lexer": "ipython3",
   "version": "3.6.10"
  }
 },
 "nbformat": 4,
 "nbformat_minor": 1
}
