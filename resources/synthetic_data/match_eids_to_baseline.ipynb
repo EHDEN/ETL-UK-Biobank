{
 "cells": [
  {
   "cell_type": "markdown",
   "metadata": {
    "collapsed": true,
    "pycharm": {
     "name": "#%% md\n"
    }
   },
   "source": [
    "script to replace the eids in the synthetic data files if the person ids in the file don't match the baseline ids"
   ]
  },
  {
   "cell_type": "code",
   "execution_count": 1,
   "metadata": {
    "pycharm": {
     "is_executing": false,
     "name": "#%%\n"
    }
   },
   "outputs": [],
   "source": [
    "import pandas as pd"
   ]
  },
  {
   "cell_type": "code",
   "execution_count": 16,
   "metadata": {
    "pycharm": {
     "is_executing": false,
     "name": "#%%\n"
    }
   },
   "outputs": [
    {
     "name": "stderr",
     "output_type": "stream",
     "text": [
      "c:\\users\\annev\\appdata\\local\\programs\\python\\python37-32\\lib\\site-packages\\IPython\\core\\interactiveshell.py:3147: DtypeWarning: Columns (1638,1642,1643,1646,1647,1672,1724,1725) have mixed types.Specify dtype option on import or set low_memory=False.\n",
      "  interactivity=interactivity, compiler=compiler, result=result)\n"
     ]
    }
   ],
   "source": [
    "baseline = pd.read_csv('baseline.csv')\n",
    "csv_to_change = 'gp_prescriptions.csv'\n",
    "df_to_match = pd.read_csv(csv_to_change)"
   ]
  },
  {
   "cell_type": "code",
   "execution_count": 17,
   "metadata": {
    "pycharm": {
     "is_executing": false,
     "name": "#%%\n"
    }
   },
   "outputs": [],
   "source": [
    "base_ids = baseline['eid'].unique()\n",
    "ids_len = len(base_ids)"
   ]
  },
  {
   "cell_type": "code",
   "execution_count": 18,
   "metadata": {
    "pycharm": {
     "is_executing": false,
     "name": "#%%\n"
    }
   },
   "outputs": [
    {
     "data": {
      "text/plain": [
       "309"
      ]
     },
     "execution_count": 18,
     "metadata": {},
     "output_type": "execute_result"
    }
   ],
   "source": [
    "df_ids = df_to_match['eid'].unique()\n",
    "len(df_ids)"
   ]
  },
  {
   "cell_type": "code",
   "execution_count": 19,
   "metadata": {
    "pycharm": {
     "is_executing": false,
     "name": "#%%\n"
    }
   },
   "outputs": [],
   "source": [
    "df_ids = df_ids[:ids_len]"
   ]
  },
  {
   "cell_type": "code",
   "execution_count": 20,
   "metadata": {
    "pycharm": {
     "is_executing": false,
     "name": "#%%\n"
    }
   },
   "outputs": [
    {
     "data": {
      "text/html": [
       "<div>\n",
       "<style scoped>\n",
       "    .dataframe tbody tr th:only-of-type {\n",
       "        vertical-align: middle;\n",
       "    }\n",
       "\n",
       "    .dataframe tbody tr th {\n",
       "        vertical-align: top;\n",
       "    }\n",
       "\n",
       "    .dataframe thead th {\n",
       "        text-align: right;\n",
       "    }\n",
       "</style>\n",
       "<table border=\"1\" class=\"dataframe\">\n",
       "  <thead>\n",
       "    <tr style=\"text-align: right;\">\n",
       "      <th></th>\n",
       "      <th>eid</th>\n",
       "      <th>data_provider</th>\n",
       "      <th>issue_date</th>\n",
       "      <th>read_2</th>\n",
       "      <th>bnf_code</th>\n",
       "      <th>dmd_code</th>\n",
       "      <th>drug_name</th>\n",
       "      <th>quantity</th>\n",
       "    </tr>\n",
       "  </thead>\n",
       "  <tbody>\n",
       "    <tr>\n",
       "      <th>0</th>\n",
       "      <td>1005964</td>\n",
       "      <td>3</td>\n",
       "      <td>28/10/2013</td>\n",
       "      <td>blb2.</td>\n",
       "      <td>NaN</td>\n",
       "      <td>NaN</td>\n",
       "      <td>SIMVASTATIN tabs 40mg</td>\n",
       "      <td>240 capsules</td>\n",
       "    </tr>\n",
       "    <tr>\n",
       "      <th>1</th>\n",
       "      <td>1001374</td>\n",
       "      <td>3</td>\n",
       "      <td>11/11/2014</td>\n",
       "      <td>f923.00</td>\n",
       "      <td>10.01.01.00.00</td>\n",
       "      <td>323342002.0</td>\n",
       "      <td>Olanzapine 10mg tablets</td>\n",
       "      <td>30 tablet</td>\n",
       "    </tr>\n",
       "    <tr>\n",
       "      <th>2</th>\n",
       "      <td>1007145</td>\n",
       "      <td>3</td>\n",
       "      <td>21/11/2011</td>\n",
       "      <td>NaN</td>\n",
       "      <td>NaN</td>\n",
       "      <td>326874007.0</td>\n",
       "      <td>Sulfasalazine 500mg gastro-resistant tablets</td>\n",
       "      <td>NaN</td>\n",
       "    </tr>\n",
       "    <tr>\n",
       "      <th>3</th>\n",
       "      <td>1003355</td>\n",
       "      <td>3</td>\n",
       "      <td>31/05/2016</td>\n",
       "      <td>NaN</td>\n",
       "      <td>NaN</td>\n",
       "      <td>NaN</td>\n",
       "      <td>Chloramphenicol 1% eye ointment</td>\n",
       "      <td>56 tabl - 75 mg</td>\n",
       "    </tr>\n",
       "    <tr>\n",
       "      <th>4</th>\n",
       "      <td>1000223</td>\n",
       "      <td>1</td>\n",
       "      <td>29/10/2007</td>\n",
       "      <td>NaN</td>\n",
       "      <td>13.02.01.02.00</td>\n",
       "      <td>NaN</td>\n",
       "      <td>Montelukast 10mg tablets</td>\n",
       "      <td>28 tablet - 50 mg</td>\n",
       "    </tr>\n",
       "  </tbody>\n",
       "</table>\n",
       "</div>"
      ],
      "text/plain": [
       "       eid  data_provider  issue_date   read_2        bnf_code     dmd_code  \\\n",
       "0  1005964              3  28/10/2013    blb2.             NaN          NaN   \n",
       "1  1001374              3  11/11/2014  f923.00  10.01.01.00.00  323342002.0   \n",
       "2  1007145              3  21/11/2011      NaN             NaN  326874007.0   \n",
       "3  1003355              3  31/05/2016      NaN             NaN          NaN   \n",
       "4  1000223              1  29/10/2007      NaN  13.02.01.02.00          NaN   \n",
       "\n",
       "                                      drug_name           quantity  \n",
       "0                         SIMVASTATIN tabs 40mg       240 capsules  \n",
       "1                       Olanzapine 10mg tablets          30 tablet  \n",
       "2  Sulfasalazine 500mg gastro-resistant tablets                NaN  \n",
       "3               Chloramphenicol 1% eye ointment    56 tabl - 75 mg  \n",
       "4                      Montelukast 10mg tablets  28 tablet - 50 mg  "
      ]
     },
     "execution_count": 20,
     "metadata": {},
     "output_type": "execute_result"
    }
   ],
   "source": [
    "df = df_to_match[df_to_match['eid'].isin(df_ids)]\n",
    "df.head()"
   ]
  },
  {
   "cell_type": "code",
   "execution_count": 21,
   "metadata": {
    "pycharm": {
     "is_executing": false,
     "name": "#%%\n"
    }
   },
   "outputs": [],
   "source": [
    "map_ids = dict(zip(df_ids, base_ids))\n",
    "df_new = df.replace(map_ids)"
   ]
  },
  {
   "cell_type": "code",
   "execution_count": 22,
   "metadata": {
    "pycharm": {
     "is_executing": false,
     "name": "#%%\n"
    }
   },
   "outputs": [],
   "source": [
    "df_new.to_csv(csv_to_change, index=False)\n"
   ]
  },
  {
   "cell_type": "code",
   "execution_count": null,
   "metadata": {},
   "outputs": [],
   "source": []
  }
 ],
 "metadata": {
  "kernelspec": {
   "display_name": "Python 3",
   "language": "python",
   "name": "python3"
  },
  "language_info": {
   "codemirror_mode": {
    "name": "ipython",
    "version": 3
   },
   "file_extension": ".py",
   "mimetype": "text/x-python",
   "name": "python",
   "nbconvert_exporter": "python",
   "pygments_lexer": "ipython3",
   "version": "3.7.3"
  }
 },
 "nbformat": 4,
 "nbformat_minor": 1
}
