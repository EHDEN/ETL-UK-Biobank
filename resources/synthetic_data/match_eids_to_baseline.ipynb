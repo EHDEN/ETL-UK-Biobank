{
 "cells": [
  {
   "cell_type": "markdown",
   "metadata": {
    "collapsed": true,
    "pycharm": {
     "name": "#%% md\n"
    }
   },
   "source": [
    "script to replace the eids in the synthetic data files if the person ids in the file don't match the baseline ids"
   ]
  },
  {
   "cell_type": "code",
   "execution_count": null,
   "outputs": [],
   "source": [
    "import pandas as pd"
   ],
   "metadata": {
    "collapsed": false,
    "pycharm": {
     "name": "#%%\n"
    }
   }
  },
  {
   "cell_type": "code",
   "execution_count": 26,
   "outputs": [],
   "source": [
    "baseline = pd.read_csv('baseline.csv')\n",
    "csv_to_change = 'gp_registrations.csv'\n",
    "df_to_match = pd.read_csv(csv_to_change)"
   ],
   "metadata": {
    "collapsed": false,
    "pycharm": {
     "name": "#%%\n"
    }
   }
  },
  {
   "cell_type": "code",
   "execution_count": 27,
   "outputs": [],
   "source": [
    "base_ids = baseline['eid'].unique()\n",
    "ids_len = len(base_ids)"
   ],
   "metadata": {
    "collapsed": false,
    "pycharm": {
     "name": "#%%\n"
    }
   }
  },
  {
   "cell_type": "code",
   "execution_count": 28,
   "outputs": [
    {
     "data": {
      "text/plain": "599"
     },
     "execution_count": 28,
     "metadata": {},
     "output_type": "execute_result"
    }
   ],
   "source": [
    "df_ids = df_to_match['eid'].unique()\n",
    "len(df_ids)"
   ],
   "metadata": {
    "collapsed": false,
    "pycharm": {
     "name": "#%%\n"
    }
   }
  },
  {
   "cell_type": "code",
   "execution_count": 29,
   "outputs": [],
   "source": [
    "df_ids = df_ids[:ids_len]"
   ],
   "metadata": {
    "collapsed": false,
    "pycharm": {
     "name": "#%%\n"
    }
   }
  },
  {
   "cell_type": "code",
   "execution_count": 30,
   "outputs": [
    {
     "data": {
      "text/plain": "       eid  data_provider    reg_date deduct_date\n0  1056667              3  12/08/2010  11/01/2012\n1  1064689              3  24/07/1997         NaN\n2  1067519              3  21/09/1999  01/08/2013\n3  1080663              3  02/12/1999         NaN\n4  1022455              3  02/02/1902  31/08/2015",
      "text/html": "<div>\n<style scoped>\n    .dataframe tbody tr th:only-of-type {\n        vertical-align: middle;\n    }\n\n    .dataframe tbody tr th {\n        vertical-align: top;\n    }\n\n    .dataframe thead th {\n        text-align: right;\n    }\n</style>\n<table border=\"1\" class=\"dataframe\">\n  <thead>\n    <tr style=\"text-align: right;\">\n      <th></th>\n      <th>eid</th>\n      <th>data_provider</th>\n      <th>reg_date</th>\n      <th>deduct_date</th>\n    </tr>\n  </thead>\n  <tbody>\n    <tr>\n      <th>0</th>\n      <td>1056667</td>\n      <td>3</td>\n      <td>12/08/2010</td>\n      <td>11/01/2012</td>\n    </tr>\n    <tr>\n      <th>1</th>\n      <td>1064689</td>\n      <td>3</td>\n      <td>24/07/1997</td>\n      <td>NaN</td>\n    </tr>\n    <tr>\n      <th>2</th>\n      <td>1067519</td>\n      <td>3</td>\n      <td>21/09/1999</td>\n      <td>01/08/2013</td>\n    </tr>\n    <tr>\n      <th>3</th>\n      <td>1080663</td>\n      <td>3</td>\n      <td>02/12/1999</td>\n      <td>NaN</td>\n    </tr>\n    <tr>\n      <th>4</th>\n      <td>1022455</td>\n      <td>3</td>\n      <td>02/02/1902</td>\n      <td>31/08/2015</td>\n    </tr>\n  </tbody>\n</table>\n</div>"
     },
     "execution_count": 30,
     "metadata": {},
     "output_type": "execute_result"
    }
   ],
   "source": [
    "df = df_to_match[df_to_match['eid'].isin(df_ids)]\n",
    "df.head()"
   ],
   "metadata": {
    "collapsed": false,
    "pycharm": {
     "name": "#%%\n"
    }
   }
  },
  {
   "cell_type": "code",
   "execution_count": 31,
   "outputs": [],
   "source": [
    "map_ids = dict(zip(df_ids, base_ids))\n",
    "df_new = df.replace(map_ids)"
   ],
   "metadata": {
    "collapsed": false,
    "pycharm": {
     "name": "#%%\n"
    }
   }
  },
  {
   "cell_type": "code",
   "execution_count": 32,
   "outputs": [],
   "source": [
    "df_new.to_csv(csv_to_change, index=False)\n"
   ],
   "metadata": {
    "collapsed": false,
    "pycharm": {
     "name": "#%%\n"
    }
   }
  }
 ],
 "metadata": {
  "kernelspec": {
   "name": "pycharm-eff24405",
   "language": "python",
   "display_name": "PyCharm (ETL-UK-Biobank)"
  },
  "language_info": {
   "codemirror_mode": {
    "name": "ipython",
    "version": 2
   },
   "file_extension": ".py",
   "mimetype": "text/x-python",
   "name": "python",
   "nbconvert_exporter": "python",
   "pygments_lexer": "ipython2",
   "version": "2.7.6"
  }
 },
 "nbformat": 4,
 "nbformat_minor": 0
}