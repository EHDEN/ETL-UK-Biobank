{
 "cells": [
  {
   "cell_type": "markdown",
   "metadata": {
    "collapsed": true,
    "pycharm": {
     "name": "#%% md\n"
    }
   },
   "source": [
    "script to replace the eids in the synthetic data files if the person ids in the file don't match the baseline ids"
   ]
  },
  {
   "cell_type": "code",
   "execution_count": 1,
   "outputs": [],
   "source": [
    "import pandas as pd"
   ],
   "metadata": {
    "collapsed": false,
    "pycharm": {
     "name": "#%%\n"
    }
   }
  },
  {
   "cell_type": "code",
   "execution_count": 2,
   "outputs": [],
   "source": [
    "baseline = pd.read_csv('baseline.csv')\n",
    "csv_to_change = 'hesin_oper.csv'\n",
    "df_to_match = pd.read_csv(csv_to_change)"
   ],
   "metadata": {
    "collapsed": false,
    "pycharm": {
     "name": "#%%\n"
    }
   }
  },
  {
   "cell_type": "code",
   "execution_count": 3,
   "outputs": [],
   "source": [
    "base_ids = baseline['eid'].unique()\n",
    "ids_len = len(base_ids)"
   ],
   "metadata": {
    "collapsed": false,
    "pycharm": {
     "name": "#%%\n"
    }
   }
  },
  {
   "cell_type": "code",
   "execution_count": 4,
   "outputs": [
    {
     "data": {
      "text/plain": "100"
     },
     "execution_count": 4,
     "metadata": {},
     "output_type": "execute_result"
    }
   ],
   "source": [
    "df_ids = df_to_match['eid'].unique()\n",
    "len(df_ids)"
   ],
   "metadata": {
    "collapsed": false,
    "pycharm": {
     "name": "#%%\n"
    }
   }
  },
  {
   "cell_type": "code",
   "execution_count": 5,
   "outputs": [],
   "source": [
    "df_ids = df_ids[:ids_len]"
   ],
   "metadata": {
    "collapsed": false,
    "pycharm": {
     "name": "#%%\n"
    }
   }
  },
  {
   "cell_type": "code",
   "execution_count": 6,
   "outputs": [
    {
     "data": {
      "text/plain": "       eid  ins_index  arr_index  level      opdate  oper3  oper3_nb oper4  \\\n0  9787890         10          0      2  23/03/2012    NaN       NaN  Y508   \n1  4356390          1          1      2         NaN    NaN       NaN  C822   \n2  8018365         13          0      2  12/06/2019    NaN       NaN  X998   \n3  5216158          3          0      1  19/12/2018    NaN       NaN  O142   \n4  5384852          1          1      1         NaN    NaN       NaN  Z943   \n\n   oper4_nb  posopdur  preopdur  \n0       NaN       NaN       NaN  \n1       NaN       NaN       0.0  \n2       NaN       0.0       NaN  \n3       NaN       0.0       0.0  \n4       NaN       NaN       NaN  ",
      "text/html": "<div>\n<style scoped>\n    .dataframe tbody tr th:only-of-type {\n        vertical-align: middle;\n    }\n\n    .dataframe tbody tr th {\n        vertical-align: top;\n    }\n\n    .dataframe thead th {\n        text-align: right;\n    }\n</style>\n<table border=\"1\" class=\"dataframe\">\n  <thead>\n    <tr style=\"text-align: right;\">\n      <th></th>\n      <th>eid</th>\n      <th>ins_index</th>\n      <th>arr_index</th>\n      <th>level</th>\n      <th>opdate</th>\n      <th>oper3</th>\n      <th>oper3_nb</th>\n      <th>oper4</th>\n      <th>oper4_nb</th>\n      <th>posopdur</th>\n      <th>preopdur</th>\n    </tr>\n  </thead>\n  <tbody>\n    <tr>\n      <th>0</th>\n      <td>9787890</td>\n      <td>10</td>\n      <td>0</td>\n      <td>2</td>\n      <td>23/03/2012</td>\n      <td>NaN</td>\n      <td>NaN</td>\n      <td>Y508</td>\n      <td>NaN</td>\n      <td>NaN</td>\n      <td>NaN</td>\n    </tr>\n    <tr>\n      <th>1</th>\n      <td>4356390</td>\n      <td>1</td>\n      <td>1</td>\n      <td>2</td>\n      <td>NaN</td>\n      <td>NaN</td>\n      <td>NaN</td>\n      <td>C822</td>\n      <td>NaN</td>\n      <td>NaN</td>\n      <td>0.0</td>\n    </tr>\n    <tr>\n      <th>2</th>\n      <td>8018365</td>\n      <td>13</td>\n      <td>0</td>\n      <td>2</td>\n      <td>12/06/2019</td>\n      <td>NaN</td>\n      <td>NaN</td>\n      <td>X998</td>\n      <td>NaN</td>\n      <td>0.0</td>\n      <td>NaN</td>\n    </tr>\n    <tr>\n      <th>3</th>\n      <td>5216158</td>\n      <td>3</td>\n      <td>0</td>\n      <td>1</td>\n      <td>19/12/2018</td>\n      <td>NaN</td>\n      <td>NaN</td>\n      <td>O142</td>\n      <td>NaN</td>\n      <td>0.0</td>\n      <td>0.0</td>\n    </tr>\n    <tr>\n      <th>4</th>\n      <td>5384852</td>\n      <td>1</td>\n      <td>1</td>\n      <td>1</td>\n      <td>NaN</td>\n      <td>NaN</td>\n      <td>NaN</td>\n      <td>Z943</td>\n      <td>NaN</td>\n      <td>NaN</td>\n      <td>NaN</td>\n    </tr>\n  </tbody>\n</table>\n</div>"
     },
     "execution_count": 6,
     "metadata": {},
     "output_type": "execute_result"
    }
   ],
   "source": [
    "df = df_to_match[df_to_match['eid'].isin(df_ids)]\n",
    "df.head()"
   ],
   "metadata": {
    "collapsed": false,
    "pycharm": {
     "name": "#%%\n"
    }
   }
  },
  {
   "cell_type": "code",
   "execution_count": 7,
   "outputs": [],
   "source": [
    "map_ids = dict(zip(df_ids, base_ids))\n",
    "df_new = df.replace(map_ids)"
   ],
   "metadata": {
    "collapsed": false,
    "pycharm": {
     "name": "#%%\n"
    }
   }
  },
  {
   "cell_type": "code",
   "execution_count": 8,
   "outputs": [],
   "source": [
    "df_new.to_csv(csv_to_change, index=False)\n"
   ],
   "metadata": {
    "collapsed": false,
    "pycharm": {
     "name": "#%%\n"
    }
   }
  }
 ],
 "metadata": {
  "kernelspec": {
   "name": "pycharm-eff24405",
   "language": "python",
   "display_name": "PyCharm (ETL-UK-Biobank)"
  },
  "language_info": {
   "codemirror_mode": {
    "name": "ipython",
    "version": 2
   },
   "file_extension": ".py",
   "mimetype": "text/x-python",
   "name": "python",
   "nbconvert_exporter": "python",
   "pygments_lexer": "ipython2",
   "version": "2.7.6"
  }
 },
 "nbformat": 4,
 "nbformat_minor": 0
}