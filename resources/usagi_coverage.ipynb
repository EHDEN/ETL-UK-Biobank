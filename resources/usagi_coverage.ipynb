{
 "cells": [
  {
   "cell_type": "code",
   "execution_count": 1,
   "metadata": {
    "collapsed": true
   },
   "outputs": [],
   "source": [
    "import pandas as pd\n",
    "import glob\n",
    "import os"
   ]
  },
  {
   "cell_type": "code",
   "execution_count": 2,
   "outputs": [
    {
     "data": {
      "text/plain": "['./baseline_field_mapping/numeric_prio_fields.csv',\n './baseline_field_mapping/20002_non-cancer_illness.csv',\n './baseline_field_mapping/20004_operation.csv',\n './baseline_field_mapping/20003_treatment_medication.csv',\n './baseline_field_mapping/date_field_lookup.csv',\n './baseline_field_mapping/20001_cancer.csv',\n './baseline_field_mapping/field_id_to_type_concept_id.csv',\n './baseline_field_mapping/discrete_boolean_prio_fields.csv',\n './baseline_field_mapping/discrete_other_fields.csv',\n './baseline_field_mapping/discrete_prio_fields.csv',\n './mapping_tables/gp_prescriptions_drugs_freetext.csv',\n './mapping_tables/hesin_disdest.csv',\n './mapping_tables/gp_clinical_read2_alternative_dot_code_mappings.csv',\n './mapping_tables/gp_clinical_units.csv',\n './mapping_tables/opcs3.csv',\n './mapping_tables/gp_clinical_phenotype_logic.csv',\n './mapping_tables/gender_mapping.csv',\n './mapping_tables/gp_prescriptions_drugs_Read2.csv',\n './mapping_tables/race_mapping.csv',\n './mapping_tables/ctv3.csv',\n './mapping_tables/covid_spectype.csv',\n './mapping_tables/hesin_admisorc.csv',\n './mapping_tables/hesin_admimeth.csv']"
     },
     "execution_count": 2,
     "metadata": {},
     "output_type": "execute_result"
    }
   ],
   "source": [
    "path_1 = './baseline_field_mapping'\n",
    "path_2 = './mapping_tables'\n",
    "files = glob.glob(os.path.join(path_1, '*.csv')) + glob.glob(os.path.join(path_2, '*.csv'))\n",
    "files"
   ],
   "metadata": {
    "collapsed": false,
    "pycharm": {
     "name": "#%%\n"
    }
   }
  },
  {
   "cell_type": "code",
   "execution_count": 3,
   "outputs": [
    {
     "data": {
      "text/plain": "[['numeric_prio_fields', 160, 138, '86.2%', 1, '0.6%', 21, '13.1%', 0, '0.0%'],\n ['20002_non-cancer_illness',\n  446,\n  351,\n  '78.7%',\n  1,\n  '0.2%',\n  94,\n  '21.1%',\n  0,\n  '0.0%'],\n ['20004_operation', 254, 128, '50.4%', 1, '0.4%', 1, '0.4%', 124, '48.8%'],\n ['20003_treatment_medication',\n  6745,\n  1330,\n  '19.7%',\n  1,\n  '0.0%',\n  74,\n  '1.1%',\n  5340,\n  '79.2%'],\n ['20001_cancer', 82, 48, '58.5%', 1, '1.2%', 33, '40.2%', 0, '0.0%'],\n ['discrete_boolean_prio_fields',\n  49,\n  21,\n  '42.9%',\n  25,\n  '51.0%',\n  1,\n  '2.0%',\n  2,\n  '4.1%'],\n ['discrete_other_fields',\n  123,\n  0,\n  '0.0%',\n  83,\n  '67.5%',\n  39,\n  '31.7%',\n  1,\n  '0.8%'],\n ['discrete_prio_fields',\n  1013,\n  914,\n  '90.2%',\n  96,\n  '9.5%',\n  0,\n  '0.0%',\n  3,\n  '0.3%'],\n ['gp_prescriptions_drugs_freetext',\n  999,\n  0,\n  '0.0%',\n  0,\n  '0.0%',\n  0,\n  '0.0%',\n  999,\n  '100.0%'],\n ['hesin_disdest', 78, 49, '62.8%', 0, '0.0%', 0, '0.0%', 29, '37.2%'],\n ['gp_clinical_units', 106, 101, '95.3%', 0, '0.0%', 0, '0.0%', 4, '3.8%'],\n ['opcs3', 1798, 284, '15.8%', 0, '0.0%', 0, '0.0%', 1514, '84.2%'],\n ['gender_mapping', 2, 2, '100.0%', 0, '0.0%', 0, '0.0%', 0, '0.0%'],\n ['gp_prescriptions_drugs_Read2',\n  468,\n  195,\n  '41.7%',\n  0,\n  '0.0%',\n  0,\n  '0.0%',\n  273,\n  '58.3%'],\n ['race_mapping', 10, 10, '100.0%', 0, '0.0%', 0, '0.0%', 0, '0.0%'],\n ['ctv3', 3965, 151, '3.8%', 0, '0.0%', 0, '0.0%', 3814, '96.2%'],\n ['covid_spectype', 39, 39, '100.0%', 0, '0.0%', 0, '0.0%', 0, '0.0%'],\n ['hesin_admisorc', 79, 47, '59.5%', 0, '0.0%', 0, '0.0%', 32, '40.5%'],\n ['hesin_admimeth', 51, 44, '86.3%', 0, '0.0%', 0, '0.0%', 7, '13.7%']]"
     },
     "execution_count": 3,
     "metadata": {},
     "output_type": "execute_result"
    }
   ],
   "source": [
    "result = []\n",
    "for file in files:\n",
    "    table = pd.read_csv(file, comment='#', index_col=False)\n",
    "    if 'sourceCode' not in table.columns:\n",
    "        continue\n",
    "    if 'sourceValueCode' not in table.columns:\n",
    "        table['sourceValueCode'] = ''\n",
    "    if sum(table['sourceValueCode'].isna())>1:\n",
    "        un_codes = table.groupby('sourceCode')['mappingStatus'].first().reset_index()\n",
    "    else:\n",
    "        un_codes = table.groupby(['sourceCode', 'sourceValueCode'])['mappingStatus'].first().reset_index()\n",
    "    n_rows = un_codes.shape[0]\n",
    "    n_appr = len(un_codes[un_codes['mappingStatus'] == 'APPROVED'])\n",
    "    perc_appr = round(n_appr*100/n_rows, 1)\n",
    "    n_ign = len(un_codes[un_codes['mappingStatus'] == 'IGNORED'])\n",
    "    perc_ign = round(n_ign*100/n_rows, 1)\n",
    "    n_flag = len(un_codes[un_codes['mappingStatus'] == 'FLAGGED'])\n",
    "    perc_flag = round(n_flag*100/n_rows, 1)\n",
    "    n_unch = len(un_codes[un_codes['mappingStatus'] == 'UNCHECKED'])\n",
    "    perc_unch = round(n_unch*100/n_rows, 1)\n",
    "    result.append([file.split('/')[2].split('.csv')[0], n_rows, n_appr, f'{perc_appr}%', n_ign, f'{perc_ign}%',\n",
    "                   n_flag, f'{perc_flag}%', n_unch, f'{perc_unch}%'])\n",
    "result"
   ],
   "metadata": {
    "collapsed": false,
    "pycharm": {
     "name": "#%%\n"
    }
   }
  },
  {
   "cell_type": "code",
   "execution_count": 4,
   "outputs": [
    {
     "data": {
      "text/plain": "                          file_name  #_codes  #_approved %_approved  \\\n0               numeric_prio_fields      160         138      86.2%   \n1          20002_non-cancer_illness      446         351      78.7%   \n2                   20004_operation      254         128      50.4%   \n3        20003_treatment_medication     6745        1330      19.7%   \n4                      20001_cancer       82          48      58.5%   \n5      discrete_boolean_prio_fields       49          21      42.9%   \n6             discrete_other_fields      123           0       0.0%   \n7              discrete_prio_fields     1013         914      90.2%   \n8   gp_prescriptions_drugs_freetext      999           0       0.0%   \n9                     hesin_disdest       78          49      62.8%   \n10                gp_clinical_units      106         101      95.3%   \n11                            opcs3     1798         284      15.8%   \n12                   gender_mapping        2           2     100.0%   \n13     gp_prescriptions_drugs_Read2      468         195      41.7%   \n14                     race_mapping       10          10     100.0%   \n15                             ctv3     3965         151       3.8%   \n16                   covid_spectype       39          39     100.0%   \n17                   hesin_admisorc       79          47      59.5%   \n18                   hesin_admimeth       51          44      86.3%   \n\n    #_ignored %_ignored  #_flagged %_flagged  #_unchecked %_unchecked  \n0           1      0.6%         21     13.1%            0        0.0%  \n1           1      0.2%         94     21.1%            0        0.0%  \n2           1      0.4%          1      0.4%          124       48.8%  \n3           1      0.0%         74      1.1%         5340       79.2%  \n4           1      1.2%         33     40.2%            0        0.0%  \n5          25     51.0%          1      2.0%            2        4.1%  \n6          83     67.5%         39     31.7%            1        0.8%  \n7          96      9.5%          0      0.0%            3        0.3%  \n8           0      0.0%          0      0.0%          999      100.0%  \n9           0      0.0%          0      0.0%           29       37.2%  \n10          0      0.0%          0      0.0%            4        3.8%  \n11          0      0.0%          0      0.0%         1514       84.2%  \n12          0      0.0%          0      0.0%            0        0.0%  \n13          0      0.0%          0      0.0%          273       58.3%  \n14          0      0.0%          0      0.0%            0        0.0%  \n15          0      0.0%          0      0.0%         3814       96.2%  \n16          0      0.0%          0      0.0%            0        0.0%  \n17          0      0.0%          0      0.0%           32       40.5%  \n18          0      0.0%          0      0.0%            7       13.7%  ",
      "text/html": "<div>\n<style scoped>\n    .dataframe tbody tr th:only-of-type {\n        vertical-align: middle;\n    }\n\n    .dataframe tbody tr th {\n        vertical-align: top;\n    }\n\n    .dataframe thead th {\n        text-align: right;\n    }\n</style>\n<table border=\"1\" class=\"dataframe\">\n  <thead>\n    <tr style=\"text-align: right;\">\n      <th></th>\n      <th>file_name</th>\n      <th>#_codes</th>\n      <th>#_approved</th>\n      <th>%_approved</th>\n      <th>#_ignored</th>\n      <th>%_ignored</th>\n      <th>#_flagged</th>\n      <th>%_flagged</th>\n      <th>#_unchecked</th>\n      <th>%_unchecked</th>\n    </tr>\n  </thead>\n  <tbody>\n    <tr>\n      <th>0</th>\n      <td>numeric_prio_fields</td>\n      <td>160</td>\n      <td>138</td>\n      <td>86.2%</td>\n      <td>1</td>\n      <td>0.6%</td>\n      <td>21</td>\n      <td>13.1%</td>\n      <td>0</td>\n      <td>0.0%</td>\n    </tr>\n    <tr>\n      <th>1</th>\n      <td>20002_non-cancer_illness</td>\n      <td>446</td>\n      <td>351</td>\n      <td>78.7%</td>\n      <td>1</td>\n      <td>0.2%</td>\n      <td>94</td>\n      <td>21.1%</td>\n      <td>0</td>\n      <td>0.0%</td>\n    </tr>\n    <tr>\n      <th>2</th>\n      <td>20004_operation</td>\n      <td>254</td>\n      <td>128</td>\n      <td>50.4%</td>\n      <td>1</td>\n      <td>0.4%</td>\n      <td>1</td>\n      <td>0.4%</td>\n      <td>124</td>\n      <td>48.8%</td>\n    </tr>\n    <tr>\n      <th>3</th>\n      <td>20003_treatment_medication</td>\n      <td>6745</td>\n      <td>1330</td>\n      <td>19.7%</td>\n      <td>1</td>\n      <td>0.0%</td>\n      <td>74</td>\n      <td>1.1%</td>\n      <td>5340</td>\n      <td>79.2%</td>\n    </tr>\n    <tr>\n      <th>4</th>\n      <td>20001_cancer</td>\n      <td>82</td>\n      <td>48</td>\n      <td>58.5%</td>\n      <td>1</td>\n      <td>1.2%</td>\n      <td>33</td>\n      <td>40.2%</td>\n      <td>0</td>\n      <td>0.0%</td>\n    </tr>\n    <tr>\n      <th>5</th>\n      <td>discrete_boolean_prio_fields</td>\n      <td>49</td>\n      <td>21</td>\n      <td>42.9%</td>\n      <td>25</td>\n      <td>51.0%</td>\n      <td>1</td>\n      <td>2.0%</td>\n      <td>2</td>\n      <td>4.1%</td>\n    </tr>\n    <tr>\n      <th>6</th>\n      <td>discrete_other_fields</td>\n      <td>123</td>\n      <td>0</td>\n      <td>0.0%</td>\n      <td>83</td>\n      <td>67.5%</td>\n      <td>39</td>\n      <td>31.7%</td>\n      <td>1</td>\n      <td>0.8%</td>\n    </tr>\n    <tr>\n      <th>7</th>\n      <td>discrete_prio_fields</td>\n      <td>1013</td>\n      <td>914</td>\n      <td>90.2%</td>\n      <td>96</td>\n      <td>9.5%</td>\n      <td>0</td>\n      <td>0.0%</td>\n      <td>3</td>\n      <td>0.3%</td>\n    </tr>\n    <tr>\n      <th>8</th>\n      <td>gp_prescriptions_drugs_freetext</td>\n      <td>999</td>\n      <td>0</td>\n      <td>0.0%</td>\n      <td>0</td>\n      <td>0.0%</td>\n      <td>0</td>\n      <td>0.0%</td>\n      <td>999</td>\n      <td>100.0%</td>\n    </tr>\n    <tr>\n      <th>9</th>\n      <td>hesin_disdest</td>\n      <td>78</td>\n      <td>49</td>\n      <td>62.8%</td>\n      <td>0</td>\n      <td>0.0%</td>\n      <td>0</td>\n      <td>0.0%</td>\n      <td>29</td>\n      <td>37.2%</td>\n    </tr>\n    <tr>\n      <th>10</th>\n      <td>gp_clinical_units</td>\n      <td>106</td>\n      <td>101</td>\n      <td>95.3%</td>\n      <td>0</td>\n      <td>0.0%</td>\n      <td>0</td>\n      <td>0.0%</td>\n      <td>4</td>\n      <td>3.8%</td>\n    </tr>\n    <tr>\n      <th>11</th>\n      <td>opcs3</td>\n      <td>1798</td>\n      <td>284</td>\n      <td>15.8%</td>\n      <td>0</td>\n      <td>0.0%</td>\n      <td>0</td>\n      <td>0.0%</td>\n      <td>1514</td>\n      <td>84.2%</td>\n    </tr>\n    <tr>\n      <th>12</th>\n      <td>gender_mapping</td>\n      <td>2</td>\n      <td>2</td>\n      <td>100.0%</td>\n      <td>0</td>\n      <td>0.0%</td>\n      <td>0</td>\n      <td>0.0%</td>\n      <td>0</td>\n      <td>0.0%</td>\n    </tr>\n    <tr>\n      <th>13</th>\n      <td>gp_prescriptions_drugs_Read2</td>\n      <td>468</td>\n      <td>195</td>\n      <td>41.7%</td>\n      <td>0</td>\n      <td>0.0%</td>\n      <td>0</td>\n      <td>0.0%</td>\n      <td>273</td>\n      <td>58.3%</td>\n    </tr>\n    <tr>\n      <th>14</th>\n      <td>race_mapping</td>\n      <td>10</td>\n      <td>10</td>\n      <td>100.0%</td>\n      <td>0</td>\n      <td>0.0%</td>\n      <td>0</td>\n      <td>0.0%</td>\n      <td>0</td>\n      <td>0.0%</td>\n    </tr>\n    <tr>\n      <th>15</th>\n      <td>ctv3</td>\n      <td>3965</td>\n      <td>151</td>\n      <td>3.8%</td>\n      <td>0</td>\n      <td>0.0%</td>\n      <td>0</td>\n      <td>0.0%</td>\n      <td>3814</td>\n      <td>96.2%</td>\n    </tr>\n    <tr>\n      <th>16</th>\n      <td>covid_spectype</td>\n      <td>39</td>\n      <td>39</td>\n      <td>100.0%</td>\n      <td>0</td>\n      <td>0.0%</td>\n      <td>0</td>\n      <td>0.0%</td>\n      <td>0</td>\n      <td>0.0%</td>\n    </tr>\n    <tr>\n      <th>17</th>\n      <td>hesin_admisorc</td>\n      <td>79</td>\n      <td>47</td>\n      <td>59.5%</td>\n      <td>0</td>\n      <td>0.0%</td>\n      <td>0</td>\n      <td>0.0%</td>\n      <td>32</td>\n      <td>40.5%</td>\n    </tr>\n    <tr>\n      <th>18</th>\n      <td>hesin_admimeth</td>\n      <td>51</td>\n      <td>44</td>\n      <td>86.3%</td>\n      <td>0</td>\n      <td>0.0%</td>\n      <td>0</td>\n      <td>0.0%</td>\n      <td>7</td>\n      <td>13.7%</td>\n    </tr>\n  </tbody>\n</table>\n</div>"
     },
     "execution_count": 4,
     "metadata": {},
     "output_type": "execute_result"
    }
   ],
   "source": [
    "df_results = pd.DataFrame(result)\n",
    "df_results.columns = ['file_name', '#_codes', '#_approved', '%_approved', '#_ignored', '%_ignored',\n",
    "                      '#_flagged', '%_flagged', '#_unchecked', '%_unchecked']\n",
    "df_results"
   ],
   "metadata": {
    "collapsed": false,
    "pycharm": {
     "name": "#%%\n"
    }
   }
  },
  {
   "cell_type": "code",
   "execution_count": 5,
   "outputs": [],
   "source": [
    "df_results.to_csv('mapping_metrics.csv', sep=',', index=False)"
   ],
   "metadata": {
    "collapsed": false,
    "pycharm": {
     "name": "#%%\n"
    }
   }
  },
  {
   "cell_type": "code",
   "execution_count": null,
   "outputs": [],
   "source": [
    "\n"
   ],
   "metadata": {
    "collapsed": false,
    "pycharm": {
     "name": "#%%\n"
    }
   }
  }
 ],
 "metadata": {
  "kernelspec": {
   "display_name": "Python 3",
   "language": "python",
   "name": "python3"
  },
  "language_info": {
   "codemirror_mode": {
    "name": "ipython",
    "version": 2
   },
   "file_extension": ".py",
   "mimetype": "text/x-python",
   "name": "python",
   "nbconvert_exporter": "python",
   "pygments_lexer": "ipython2",
   "version": "2.7.6"
  }
 },
 "nbformat": 4,
 "nbformat_minor": 0
}